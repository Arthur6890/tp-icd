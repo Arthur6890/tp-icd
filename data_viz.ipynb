{
 "cells": [
  {
   "cell_type": "code",
   "execution_count": null,
   "metadata": {},
   "outputs": [],
   "source": [
    "# Imports\n",
    "import pandas as pd\n",
    "import numpy as np\n",
    "from os import path"
   ]
  },
  {
   "cell_type": "code",
   "execution_count": null,
   "metadata": {},
   "outputs": [],
   "source": [
    "# Definição dos dataframes iniciais\n",
    "directory = \"data\"\n",
    "food_df = pd.read_csv(path.join(directory, \"food.csv\"))\n",
    "nutrient_df = pd.read_csv(path.join(directory, \"nutrient.csv\"))\n",
    "food_nutrient_df = pd.read_csv(path.join(directory, \"food_nutrient.csv\"))"
   ]
  },
  {
   "cell_type": "code",
   "execution_count": null,
   "metadata": {},
   "outputs": [],
   "source": [
    "# Cruzando os nutrientes\n",
    "\n",
    "# Nutriente e o id dele\n",
    "nutrient_ids = {          # Nome do nutriente na tabela\n",
    "    \"carbohydrate\": 2039, # Carbohydrates\n",
    "    \"protein\":1003,       # Protein\n",
    "    \"fat\": 1004,          # Total lipid (fat)\n",
    "    \"water\": 1051,        # Water\n",
    "    \"sugars\": 1063,       # Sugars, Total\n",
    "    \"fiber\": 1079         # Fiber, total dietary\n",
    "}\n",
    "\n",
    "# Ids das comidas e descricoes\n",
    "foods = food_df[[\"fdc_id\", \"description\"]].copy().set_index(\"fdc_id\")\n",
    "\n",
    "for n_name, n_id in nutrient_ids.items():\n",
    "    # Pra cada nutriente, cria uma coluna vazia pra ele na tabela\n",
    "    foods[n_name] = np.nan\n",
    "\n",
    "    # Pega o fdc_id e a quantidade em todas as linhas referentes a esse nutriente \n",
    "    tmp = food_nutrient_df.query(\"nutrient_id == @n_id\")[[\"fdc_id\", \"amount\"]]\n",
    "\n",
    "    # Pra cada linha, insere a quantidade na tabela\n",
    "    for _, fdc_id, amount in tmp.itertuples():\n",
    "        foods.at[fdc_id, n_name] = amount\n",
    "\n",
    "\n",
    "# Tô vendo como fica se eu só dropar as linhas 100% vazias, pq se usar how=\"any\", não sobra linha nenhuma no df\n",
    "foods = foods.dropna(how=\"all\")\n",
    "\n",
    "# Tem que usar essa opção pro pandas imprimir a saída toda, mas eu nn queria definir isso pro arquivo inteiro\n",
    "with pd.option_context('display.max_rows', None, 'display.max_columns', None):\n",
    "  print(foods.head(100))"
   ]
  }
 ],
 "metadata": {
  "kernelspec": {
   "display_name": "Python 3",
   "language": "python",
   "name": "python3"
  },
  "language_info": {
   "codemirror_mode": {
    "name": "ipython",
    "version": 3
   },
   "file_extension": ".py",
   "mimetype": "text/x-python",
   "name": "python",
   "nbconvert_exporter": "python",
   "pygments_lexer": "ipython3",
   "version": "3.9.13"
  }
 },
 "nbformat": 4,
 "nbformat_minor": 2
}
